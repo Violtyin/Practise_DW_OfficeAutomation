{
 "cells": [
  {
   "cell_type": "markdown",
   "metadata": {},
   "source": [
    "# 练习"
   ]
  },
  {
   "cell_type": "markdown",
   "metadata": {},
   "source": [
    "## 如果已有的文件以写模式打开，会发生什么？ "
   ]
  },
  {
   "cell_type": "markdown",
   "metadata": {},
   "source": [
    "首先写模式一般为“w”,区别于读模式对文件的只读权限，下模式可以修改文件，而且完成操作之后，从头开始覆盖源文件，这里也区别于添加模式的将提交的内容追加在源文件的后面。"
   ]
  },
  {
   "cell_type": "markdown",
   "metadata": {},
   "source": [
    "## read()和readlines()方法之间的区别是什么？"
   ]
  },
  {
   "cell_type": "markdown",
   "metadata": {},
   "source": [
    "read():每次读取整个文件,括号里的size参数表示最多读取size个字节的内容；\n",
    "readlines()：一次性读整个文件，然后自动将文件内容分析成一个行的列表，每一行表示一个元素。"
   ]
  },
  {
   "cell_type": "markdown",
   "metadata": {},
   "source": [
    "## 综合练习 "
   ]
  },
  {
   "cell_type": "code",
   "execution_count": null,
   "metadata": {},
   "outputs": [],
   "source": []
  },
  {
   "cell_type": "markdown",
   "metadata": {},
   "source": [
    "# 使用Python实现自动化邮件发送"
   ]
  },
  {
   "cell_type": "code",
   "execution_count": 13,
   "metadata": {
    "ExecuteTime": {
     "end_time": "2021-11-18T15:17:33.589273Z",
     "start_time": "2021-11-18T15:17:33.585272Z"
    }
   },
   "outputs": [],
   "source": [
    "#1 先导入相关的库和方法\n",
    "import smtplib  #导入库\n",
    "from smtplib import SMTP_SSL  #加密邮件内容，防止中途被截获\n",
    "from email.mime.text import  MIMEText   #构造邮件的正文\n",
    "from email.mime.image import MIMEImage  #构造邮件的图片\n",
    "from email.mime.multipart import MIMEMultipart   #把邮件的各个部分装在一起，邮件的主体\n",
    "from email.header import Header   #邮件的文件头，标题，收件人"
   ]
  },
  {
   "cell_type": "code",
   "execution_count": 14,
   "metadata": {
    "ExecuteTime": {
     "end_time": "2021-11-18T15:17:34.182132Z",
     "start_time": "2021-11-18T15:17:34.178135Z"
    }
   },
   "outputs": [],
   "source": [
    "#2 设置邮箱域名、发件人邮箱、邮箱授权码、收件人邮箱\n",
    "host_server = 'smtp.163.com' #sina 邮箱smtp服务器                 #smtp 服务器的地址\n",
    "sender_163 = 'pythonauto_emai@163.com'                   #sender_163为发件人的邮箱\n",
    "pwd = 'DYEPOGLZDZYLOMRI'                    #pwd为邮箱的授权码'DYEPOGLZDZYLOMRI'\n",
    "#也可以自己注册个邮箱，邮箱授权码'DYEPOGLZDZYLOMRI' 获取方式可参考#http://help.163.com/14/0923/22/A6S1FMJD00754KNP.html\n",
    "receiver = 'yinyanmeng@163.com'      "
   ]
  },
  {
   "cell_type": "code",
   "execution_count": 15,
   "metadata": {
    "ExecuteTime": {
     "end_time": "2021-11-18T15:17:34.831163Z",
     "start_time": "2021-11-18T15:17:34.828162Z"
    }
   },
   "outputs": [],
   "source": [
    "#3 构建MIMEMultipart对象代表邮件本身，可以往里面添加文本、图片、附件等\n",
    "msg = MIMEMultipart()    #邮件主体"
   ]
  },
  {
   "cell_type": "code",
   "execution_count": 32,
   "metadata": {
    "ExecuteTime": {
     "end_time": "2021-11-18T15:24:52.890975Z",
     "start_time": "2021-11-18T15:24:52.884872Z"
    }
   },
   "outputs": [],
   "source": [
    "#4 设置邮件头部内容\n",
    "mail_title = 'python办公自动化邮件'   # 邮件标题\n",
    "msg[\"Subject\"] = Header(mail_title,'utf-8')  #装入主体\n",
    "msg[\"From\"] = sender_163           #寄件人\n",
    "msg[\"To\"] = Header(\"测试邮箱\",'utf-8') #标题"
   ]
  },
  {
   "cell_type": "code",
   "execution_count": 33,
   "metadata": {
    "ExecuteTime": {
     "end_time": "2021-11-18T15:24:53.512613Z",
     "start_time": "2021-11-18T15:24:53.508411Z"
    }
   },
   "outputs": [],
   "source": [
    "#5 添加正文文本\n",
    "mail_content = \"您好，这是使用python登录163邮箱发送邮件的测试\"   #邮件的正文内容\n",
    "message_text = MIMEText(mail_content,'plain','utf-8')   #构造文本,参数1：正文内容，参数2：文本格式，参数3：编码方式\n",
    "msg.attach(message_text)    # 向MIMEMultipart对象中添加文本对象"
   ]
  },
  {
   "cell_type": "code",
   "execution_count": 34,
   "metadata": {
    "ExecuteTime": {
     "end_time": "2021-11-18T15:24:54.036355Z",
     "start_time": "2021-11-18T15:24:54.027142Z"
    }
   },
   "outputs": [],
   "source": [
    "#6 添加图片\n",
    "image_data = open('zjl.jpg','rb')   # 二进制读取图片\n",
    "message_image = MIMEImage(image_data.read())  # 设置读取获取的二进制数据\n",
    "image_data.close()       # 关闭刚才打开的文件\n",
    "msg.attach(message_image)  # 添加图片文件到邮件信息当中去"
   ]
  },
  {
   "cell_type": "code",
   "execution_count": 35,
   "metadata": {
    "ExecuteTime": {
     "end_time": "2021-11-18T15:24:54.705402Z",
     "start_time": "2021-11-18T15:24:54.698399Z"
    }
   },
   "outputs": [],
   "source": [
    "# 7 添加附件(excel表格)\n",
    "atta = MIMEText(open('excel到word.xlsx', 'rb').read(), 'base64', 'utf-8')   # 构造附件\n",
    "atta[\"Content-Disposition\"] = 'attachment; filename=\"cat.xlsx\"'  # 设置附件信息\n",
    "msg.attach(atta)       ## 添加附件到邮件信息当中去"
   ]
  },
  {
   "cell_type": "code",
   "execution_count": 36,
   "metadata": {
    "ExecuteTime": {
     "end_time": "2021-11-18T15:24:56.653118Z",
     "start_time": "2021-11-18T15:24:55.704362Z"
    }
   },
   "outputs": [
    {
     "name": "stdout",
     "output_type": "stream",
     "text": [
      "邮件发送成功\n"
     ]
    },
    {
     "data": {
      "text/plain": [
       "<bound method SMTP.quit of <smtplib.SMTP_SSL object at 0x000002334F07B648>>"
      ]
     },
     "execution_count": 36,
     "metadata": {},
     "output_type": "execute_result"
    }
   ],
   "source": [
    "#8 发送邮件\n",
    "smtp = SMTP_SSL(host_server)       #SSL登录  创建SMTP对象\n",
    "smtp.login(sender_163,pwd)         ## 登录邮箱，传递参数1：邮箱地址，参数2：邮箱授权码\n",
    "smtp.sendmail(sender_163,receiver,msg.as_string()) # 发送邮件，传递参数1：发件人邮箱地址，参数2：收件人邮箱地址，参数3：把邮件内容格式改为str\n",
    "print(\"邮件发送成功\")\n",
    "smtp.quit         # 关闭SMTP对象"
   ]
  },
  {
   "cell_type": "code",
   "execution_count": null,
   "metadata": {},
   "outputs": [],
   "source": []
  }
 ],
 "metadata": {
  "kernelspec": {
   "display_name": "Python 3",
   "language": "python",
   "name": "python3"
  },
  "language_info": {
   "codemirror_mode": {
    "name": "ipython",
    "version": 3
   },
   "file_extension": ".py",
   "mimetype": "text/x-python",
   "name": "python",
   "nbconvert_exporter": "python",
   "pygments_lexer": "ipython3",
   "version": "3.7.6"
  },
  "toc": {
   "base_numbering": 1,
   "nav_menu": {},
   "number_sections": true,
   "sideBar": true,
   "skip_h1_title": false,
   "title_cell": "Table of Contents",
   "title_sidebar": "Contents",
   "toc_cell": false,
   "toc_position": {},
   "toc_section_display": true,
   "toc_window_display": true
  },
  "varInspector": {
   "cols": {
    "lenName": 16,
    "lenType": 16,
    "lenVar": 40
   },
   "kernels_config": {
    "python": {
     "delete_cmd_postfix": "",
     "delete_cmd_prefix": "del ",
     "library": "var_list.py",
     "varRefreshCmd": "print(var_dic_list())"
    },
    "r": {
     "delete_cmd_postfix": ") ",
     "delete_cmd_prefix": "rm(",
     "library": "var_list.r",
     "varRefreshCmd": "cat(var_dic_list()) "
    }
   },
   "types_to_exclude": [
    "module",
    "function",
    "builtin_function_or_method",
    "instance",
    "_Feature"
   ],
   "window_display": false
  }
 },
 "nbformat": 4,
 "nbformat_minor": 4
}
